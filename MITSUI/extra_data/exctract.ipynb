{
 "cells": [
  {
   "cell_type": "code",
   "execution_count": 2,
   "id": "60bd8099",
   "metadata": {},
   "outputs": [],
   "source": [
    "import pandas as pd\n",
    "import matplotlib.pyplot as plt\n",
    "import yfinance as yf"
   ]
  },
  {
   "cell_type": "code",
   "execution_count": 3,
   "id": "bb73a62c",
   "metadata": {},
   "outputs": [
    {
     "data": {
      "text/html": [
       "<div>\n",
       "<style scoped>\n",
       "    .dataframe tbody tr th:only-of-type {\n",
       "        vertical-align: middle;\n",
       "    }\n",
       "\n",
       "    .dataframe tbody tr th {\n",
       "        vertical-align: top;\n",
       "    }\n",
       "\n",
       "    .dataframe thead th {\n",
       "        text-align: right;\n",
       "    }\n",
       "</style>\n",
       "<table border=\"1\" class=\"dataframe\">\n",
       "  <thead>\n",
       "    <tr style=\"text-align: right;\">\n",
       "      <th></th>\n",
       "      <th>tickers</th>\n",
       "    </tr>\n",
       "  </thead>\n",
       "  <tbody>\n",
       "    <tr>\n",
       "      <th>1996-01-02</th>\n",
       "      <td>AAL,AAMRQ,AAPL,ABI,ABS,ABT,ABX,ACKH,ACV,ADM,AD...</td>\n",
       "    </tr>\n",
       "    <tr>\n",
       "      <th>1996-01-03</th>\n",
       "      <td>AAL,AAMRQ,AAPL,ABI,ABS,ABT,ABX,ACKH,ACV,ADM,AD...</td>\n",
       "    </tr>\n",
       "    <tr>\n",
       "      <th>1996-01-04</th>\n",
       "      <td>AAL,AAMRQ,AAPL,ABI,ABS,ABT,ABX,ACKH,ACV,ADM,AD...</td>\n",
       "    </tr>\n",
       "    <tr>\n",
       "      <th>1996-01-05</th>\n",
       "      <td>AAL,AAMRQ,AAPL,ABI,ABS,ABT,ABX,ACKH,ACV,ADM,AD...</td>\n",
       "    </tr>\n",
       "    <tr>\n",
       "      <th>1996-01-06</th>\n",
       "      <td>AAL,AAMRQ,AAPL,ABI,ABS,ABT,ABX,ACKH,ACV,ADM,AD...</td>\n",
       "    </tr>\n",
       "  </tbody>\n",
       "</table>\n",
       "</div>"
      ],
      "text/plain": [
       "                                                      tickers\n",
       "1996-01-02  AAL,AAMRQ,AAPL,ABI,ABS,ABT,ABX,ACKH,ACV,ADM,AD...\n",
       "1996-01-03  AAL,AAMRQ,AAPL,ABI,ABS,ABT,ABX,ACKH,ACV,ADM,AD...\n",
       "1996-01-04  AAL,AAMRQ,AAPL,ABI,ABS,ABT,ABX,ACKH,ACV,ADM,AD...\n",
       "1996-01-05  AAL,AAMRQ,AAPL,ABI,ABS,ABT,ABX,ACKH,ACV,ADM,AD...\n",
       "1996-01-06  AAL,AAMRQ,AAPL,ABI,ABS,ABT,ABX,ACKH,ACV,ADM,AD..."
      ]
     },
     "execution_count": 3,
     "metadata": {},
     "output_type": "execute_result"
    }
   ],
   "source": [
    "url = \"https://raw.githubusercontent.com/fja05680/sp500/refs/heads/master/S%26P%20500%20Historical%20Components%20%26%20Changes(07-12-2025).csv\"\n",
    "df = pd.read_csv(url)\n",
    "df['date'] = pd.to_datetime(df['date'])\n",
    "dates = pd.date_range(df['date'].iloc[0], df['date'].iloc[-1])\n",
    "df = df.set_index(\"date\")\n",
    "# añadimos fechas faltantes, y rellenamos con los anterior\n",
    "df = df.reindex(dates)\n",
    "df.tickers = df.tickers.ffill() #TODO: ffill o bfill?\n",
    "df.head()"
   ]
  },
  {
   "cell_type": "markdown",
   "id": "89927940",
   "metadata": {},
   "source": [
    "## Problemas a investigar\n",
    "\n",
    "Los datos de las empresas del SP&500 es algo inconsistente por ejemplo, segun [wikipedia](https://en.wikipedia.org/wiki/List_of_S%26P_500_companies#Selected_changes_to_the_list_of_S&P_500_components), ACE es sustituido el 19 de Enero de 2016 por EXR, pero comprobando, ACE ni si quiera esta en la lista. Esto sucede para mas casos."
   ]
  },
  {
   "cell_type": "code",
   "execution_count": 4,
   "id": "4a0fb4b4",
   "metadata": {},
   "outputs": [
    {
     "name": "stdout",
     "output_type": "stream",
     "text": [
      "ACE in 2016-01-15 00:00:00? False\n",
      "ACE in 2016-01-25 00:00:00? False\n",
      "EXR in 2016-01-15 00:00:00? False\n",
      "EXR in 2016-01-25 00:00:00? True\n",
      "504\n",
      "505\n",
      "{'EXR'}\n"
     ]
    }
   ],
   "source": [
    "date = pd.to_datetime(\"2016-01-15\")\n",
    "date2 = pd.to_datetime(\"2016-01-25\")\n",
    "\n",
    "removed_com = 'ACE'\n",
    "new_com = 'EXR'\n",
    "print(f\"{removed_com} in {date}? {removed_com in (df.loc[date].tickers)}\")\n",
    "print(f\"{removed_com} in {date2}? {removed_com in (df.loc[date2].tickers)}\")\n",
    "print(f\"{new_com} in {date}? {new_com in (df.loc[date].tickers)}\")\n",
    "print(f\"{new_com} in {date2}? {new_com in (df.loc[date2].tickers)}\")\n",
    "\n",
    "tickers = df.loc[date].tickers\n",
    "tickers2 = df.loc[date2].tickers\n",
    "\n",
    "companies = set(tickers.split(\",\"))\n",
    "companies2 = set(tickers2.split(\",\"))\n",
    "\n",
    "print(len(companies))\n",
    "print(len(companies2))\n",
    "print(companies^companies2)"
   ]
  },
  {
   "cell_type": "markdown",
   "id": "8821860d",
   "metadata": {},
   "source": [
    "O incluso ni se aplica correctamente, por ejemplo aqui, donde el 5 de Diciembre del 2000, se cambio OI por SBL, pero el dataset no lo refleja, añade RHI"
   ]
  },
  {
   "cell_type": "code",
   "execution_count": 5,
   "id": "659841ef",
   "metadata": {},
   "outputs": [
    {
     "name": "stdout",
     "output_type": "stream",
     "text": [
      "OI in 2000-12-01 00:00:00? True\n",
      "OI in 2000-12-06 00:00:00? True\n",
      "SBL in 2000-12-01 00:00:00? False\n",
      "SBL in 2000-12-06 00:00:00? False\n",
      "491\n",
      "492\n",
      "{'RHI'}\n"
     ]
    }
   ],
   "source": [
    "date = pd.to_datetime(\"2000-12-1\")\n",
    "date2 = pd.to_datetime(\"2000-12-6\")\n",
    "\n",
    "removed_com = 'OI'\n",
    "new_com = 'SBL'\n",
    "print(f\"{removed_com} in {date}? {removed_com in (df.loc[date].tickers)}\")\n",
    "print(f\"{removed_com} in {date2}? {removed_com in (df.loc[date2].tickers)}\")\n",
    "print(f\"{new_com} in {date}? {new_com in (df.loc[date].tickers)}\")\n",
    "print(f\"{new_com} in {date2}? {new_com in (df.loc[date2].tickers)}\")\n",
    "\n",
    "tickers = df.loc[date].tickers\n",
    "tickers2 = df.loc[date2].tickers\n",
    "\n",
    "companies = set(tickers.split(\",\"))\n",
    "companies2 = set(tickers2.split(\",\"))\n",
    "\n",
    "print(len(companies))\n",
    "print(len(companies2))\n",
    "print(companies^companies2)"
   ]
  },
  {
   "cell_type": "markdown",
   "id": "e26a7632",
   "metadata": {},
   "source": [
    "Otro problema es el cambio de tickers por fusion (merge). Esta [lista](https://en.wikipedia.org/wiki/List_of_S%26P_500_companies#Selected_changes_to_the_list_of_S&P_500_components) muestra como algunos tickers existian en el pasado pero fueron sustituidos por nuevos. Por ejemplo, el 6 de Julio de 2015, Kraft fue adherido por Heinz, cambiando el simbolo de KRFT a KHC."
   ]
  },
  {
   "cell_type": "code",
   "execution_count": 6,
   "id": "a78487d5",
   "metadata": {},
   "outputs": [
    {
     "name": "stdout",
     "output_type": "stream",
     "text": [
      "KRFT in 2015-07-04 00:00:00? True\n",
      "KRFT in 2015-07-07 00:00:00? False\n",
      "KHC in 2015-07-04 00:00:00? False\n",
      "KHC in 2015-07-07 00:00:00? True\n"
     ]
    }
   ],
   "source": [
    "date = pd.to_datetime(\"2015-7-4\")\n",
    "date2 = pd.to_datetime(\"2015-7-7\")\n",
    "\n",
    "tickers = df.loc[date].tickers\n",
    "tickers2 = df.loc[date2].tickers\n",
    "\n",
    "print(f\"KRFT in {date}? {'KRFT' in (df.loc[date].tickers)}\")\n",
    "print(f\"KRFT in {date2}? {'KRFT' in (df.loc[date2].tickers)}\")\n",
    "\n",
    "print(f\"KHC in {date}? {'KHC' in (df.loc[date].tickers)}\")\n",
    "print(f\"KHC in {date2}? {'KHC' in (df.loc[date2].tickers)}\")\n",
    "\n"
   ]
  },
  {
   "cell_type": "markdown",
   "id": "5bf7b9f4",
   "metadata": {},
   "source": [
    "Esto trae consigo otro problema, al dejar de existir un simbolo, yfinance lo elimina. Con el ejemplo anterior, perdemos absolutamente toda la historia de KRFT."
   ]
  },
  {
   "cell_type": "code",
   "execution_count": 7,
   "id": "9e3d874a",
   "metadata": {},
   "outputs": [
    {
     "name": "stderr",
     "output_type": "stream",
     "text": [
      "[*********************100%***********************]  1 of 1 completed\n",
      "\n",
      "1 Failed download:\n",
      "['KRFT']: YFPricesMissingError('possibly delisted; no price data found  (1d 2024-12-07 -> 2025-01-07 00:00:00)')\n"
     ]
    },
    {
     "data": {
      "text/html": [
       "<div>\n",
       "<style scoped>\n",
       "    .dataframe tbody tr th:only-of-type {\n",
       "        vertical-align: middle;\n",
       "    }\n",
       "\n",
       "    .dataframe tbody tr th {\n",
       "        vertical-align: top;\n",
       "    }\n",
       "\n",
       "    .dataframe thead tr th {\n",
       "        text-align: left;\n",
       "    }\n",
       "\n",
       "    .dataframe thead tr:last-of-type th {\n",
       "        text-align: right;\n",
       "    }\n",
       "</style>\n",
       "<table border=\"1\" class=\"dataframe\">\n",
       "  <thead>\n",
       "    <tr>\n",
       "      <th>Price</th>\n",
       "      <th>Adj Close</th>\n",
       "      <th>Close</th>\n",
       "      <th>High</th>\n",
       "      <th>Low</th>\n",
       "      <th>Open</th>\n",
       "      <th>Volume</th>\n",
       "    </tr>\n",
       "    <tr>\n",
       "      <th>Ticker</th>\n",
       "      <th>KRFT</th>\n",
       "      <th>KRFT</th>\n",
       "      <th>KRFT</th>\n",
       "      <th>KRFT</th>\n",
       "      <th>KRFT</th>\n",
       "      <th>KRFT</th>\n",
       "    </tr>\n",
       "    <tr>\n",
       "      <th>Date</th>\n",
       "      <th></th>\n",
       "      <th></th>\n",
       "      <th></th>\n",
       "      <th></th>\n",
       "      <th></th>\n",
       "      <th></th>\n",
       "    </tr>\n",
       "  </thead>\n",
       "  <tbody>\n",
       "  </tbody>\n",
       "</table>\n",
       "</div>"
      ],
      "text/plain": [
       "Empty DataFrame\n",
       "Columns: [(Adj Close, KRFT), (Close, KRFT), (High, KRFT), (Low, KRFT), (Open, KRFT), (Volume, KRFT)]\n",
       "Index: []"
      ]
     },
     "execution_count": 7,
     "metadata": {},
     "output_type": "execute_result"
    }
   ],
   "source": [
    "date2 = pd.to_datetime(\"2025-1-7\")\n",
    "\n",
    "yf.download(\"KRFT\", end=date2, auto_adjust=True)"
   ]
  },
  {
   "cell_type": "markdown",
   "id": "abdb73cd",
   "metadata": {},
   "source": [
    "## Conclusion errores\n",
    "\n",
    "- Inconsistencias en los cambios de empresas/tickers, pues solo se realizan parcialmente\n",
    "- Cambios en el dataset pueden ser por distintos motivos (susticion, compra, merge, etc.)\n",
    "- Al dejar de existir algunos tickers, se pierden todos sus datos pasados\n",
    "\n",
    "## Soluciones posibles\n",
    "\n",
    "- Respecto a las incosistencias, la pagina de la wikipedia parece bastante fiable. Te dan las 503 empresas actuales y todos los cambios hasta el July 1, 1976. Alomejor tiene sentido scrapear esta informacion y partiendo de las empresas iniciales ir creando el dataset hacia atras. (facil)\n",
    "- Si se hace el scrapeo, tratar de categorizar la decision del cambio para mejorar el tratamiento posterior. (medio)\n",
    "- Respecto a la perdida de informacion de las empresas que son adquiridas o fusionadas, alomejor buscar otro tipo de API's o datos en internet. (dificil)\n"
   ]
  },
  {
   "cell_type": "code",
   "execution_count": 8,
   "id": "bfef20ea",
   "metadata": {},
   "outputs": [
    {
     "data": {
      "text/plain": [
       "array(['AAL', 'AAMRQ', 'AAPL', ..., 'WSM', 'COIN', 'DDOG'],\n",
       "      shape=(1181,), dtype=object)"
      ]
     },
     "execution_count": 8,
     "metadata": {},
     "output_type": "execute_result"
    }
   ],
   "source": [
    "df.tickers = df.tickers.str.split(\",\")\n",
    "unique_tickers = df.explode(\"tickers\").tickers.unique()\n",
    "unique_tickers"
   ]
  },
  {
   "cell_type": "code",
   "execution_count": 9,
   "id": "2ab28249",
   "metadata": {},
   "outputs": [],
   "source": [
    "# vamos guardando objetos de los que podremos obtener dividendos y splits posteriormente\n",
    "# tambien nos sirve para ver los tickers que dan algun tipo de problema\n",
    "\n",
    "# comentado porque es ineficiente y largo\n",
    "\n",
    "# div_mapper = {}\n",
    "# split_mapper = {}\n",
    "# for tick in unique_tickers:\n",
    "#     obj = yf.Ticker(tick)\n",
    "#     div_mapper[tick] = obj.dividends\n",
    "#     split_mapper[tick] = obj.splits\n"
   ]
  },
  {
   "cell_type": "code",
   "execution_count": 10,
   "id": "93f1eb32",
   "metadata": {},
   "outputs": [
    {
     "name": "stderr",
     "output_type": "stream",
     "text": [
      "[**********            20%                       ]  99 of 503 completedHTTP Error 404: {\"quoteSummary\":{\"result\":null,\"error\":{\"code\":\"Not Found\",\"description\":\"Quote not found for symbol: HES\"}}}\n",
      "[*********************100%***********************]  503 of 503 completed\n",
      "\n",
      "5 Failed downloads:\n",
      "['BRK.B', 'HES', 'ANSS', 'PARA']: YFTzMissingError('possibly delisted; no timezone found')\n",
      "['BF.B']: YFPricesMissingError('possibly delisted; no price data found  (1d 2025-07-09 00:00:00 -> 2025-07-10 00:00:00)')\n",
      "[*********************100%***********************]  503 of 503 completed\n",
      "\n",
      "6 Failed downloads:\n",
      "['JNPR', 'BRK.B', 'HES', 'ANSS', 'PARA']: YFTzMissingError('possibly delisted; no timezone found')\n",
      "['BF.B']: YFPricesMissingError('possibly delisted; no price data found  (1d 2025-07-08 00:00:00 -> 2025-07-09 00:00:00)')\n",
      "[*********************100%***********************]  503 of 503 completed\n",
      "\n",
      "6 Failed downloads:\n",
      "['JNPR', 'BRK.B', 'HES', 'ANSS', 'PARA']: YFTzMissingError('possibly delisted; no timezone found')\n",
      "['BF.B']: YFPricesMissingError('possibly delisted; no price data found  (1d 2025-07-07 00:00:00 -> 2025-07-08 00:00:00)')\n"
     ]
    }
   ],
   "source": [
    "# ejemplo de creacion\n",
    "# iteramos en orden inverso para mas exito de descarga\n",
    "filas = []\n",
    "# def get_today_dividends(ticker, date):\n",
    "#     if not div_mapper[ticker].empty:\n",
    "#         return div_mapper[ticker].loc[div_mapper[ticker].index.date == date.date()].sum()\n",
    "#     else:\n",
    "#         return 0.0\n",
    "\n",
    "for i, date in enumerate(df.index[::-1]):\n",
    "    end_date = date + pd.Timedelta(days=1)\n",
    "    \n",
    "    data = yf.download(df.loc[date].tickers, start=date, end=end_date, auto_adjust=True, interval='1d')\n",
    "    data = data.stack(level=1, future_stack=True).reset_index()\n",
    "    data = data.rename(columns={'level_1': 'ticker'})\n",
    "    # data['dividends'] = get_today_dividends(data['Ticker'], date)\n",
    "\n",
    "    filas.append(data)\n",
    "    if i>1:\n",
    "        break\n",
    "\n",
    "final_data = pd.concat(filas, ignore_index=True)"
   ]
  },
  {
   "cell_type": "code",
   "execution_count": 14,
   "id": "43c780b5",
   "metadata": {},
   "outputs": [
    {
     "data": {
      "text/html": [
       "<div>\n",
       "<style scoped>\n",
       "    .dataframe tbody tr th:only-of-type {\n",
       "        vertical-align: middle;\n",
       "    }\n",
       "\n",
       "    .dataframe tbody tr th {\n",
       "        vertical-align: top;\n",
       "    }\n",
       "\n",
       "    .dataframe thead th {\n",
       "        text-align: right;\n",
       "    }\n",
       "</style>\n",
       "<table border=\"1\" class=\"dataframe\">\n",
       "  <thead>\n",
       "    <tr style=\"text-align: right;\">\n",
       "      <th>Price</th>\n",
       "      <th>Date</th>\n",
       "      <th>Ticker</th>\n",
       "      <th>Adj Close</th>\n",
       "      <th>Close</th>\n",
       "      <th>High</th>\n",
       "      <th>Low</th>\n",
       "      <th>Open</th>\n",
       "      <th>Volume</th>\n",
       "    </tr>\n",
       "  </thead>\n",
       "  <tbody>\n",
       "    <tr>\n",
       "      <th>797</th>\n",
       "      <td>2025-07-08</td>\n",
       "      <td>LYV</td>\n",
       "      <td>NaN</td>\n",
       "      <td>144.429993</td>\n",
       "      <td>148.039993</td>\n",
       "      <td>142.240005</td>\n",
       "      <td>147.360001</td>\n",
       "      <td>2020500.0</td>\n",
       "    </tr>\n",
       "    <tr>\n",
       "      <th>818</th>\n",
       "      <td>2025-07-08</td>\n",
       "      <td>MO</td>\n",
       "      <td>NaN</td>\n",
       "      <td>58.593079</td>\n",
       "      <td>59.321308</td>\n",
       "      <td>58.288007</td>\n",
       "      <td>59.045762</td>\n",
       "      <td>7939200.0</td>\n",
       "    </tr>\n",
       "    <tr>\n",
       "      <th>1403</th>\n",
       "      <td>2025-07-07</td>\n",
       "      <td>ROK</td>\n",
       "      <td>NaN</td>\n",
       "      <td>337.632812</td>\n",
       "      <td>346.269643</td>\n",
       "      <td>336.965394</td>\n",
       "      <td>344.406805</td>\n",
       "      <td>1445100.0</td>\n",
       "    </tr>\n",
       "    <tr>\n",
       "      <th>1158</th>\n",
       "      <td>2025-07-07</td>\n",
       "      <td>EA</td>\n",
       "      <td>NaN</td>\n",
       "      <td>153.360626</td>\n",
       "      <td>155.987730</td>\n",
       "      <td>153.160850</td>\n",
       "      <td>155.548213</td>\n",
       "      <td>2502800.0</td>\n",
       "    </tr>\n",
       "    <tr>\n",
       "      <th>253</th>\n",
       "      <td>2025-07-09</td>\n",
       "      <td>ITW</td>\n",
       "      <td>NaN</td>\n",
       "      <td>258.150055</td>\n",
       "      <td>258.646975</td>\n",
       "      <td>255.208296</td>\n",
       "      <td>257.136349</td>\n",
       "      <td>866300.0</td>\n",
       "    </tr>\n",
       "  </tbody>\n",
       "</table>\n",
       "</div>"
      ],
      "text/plain": [
       "Price       Date Ticker  Adj Close       Close        High         Low  \\\n",
       "797   2025-07-08    LYV        NaN  144.429993  148.039993  142.240005   \n",
       "818   2025-07-08     MO        NaN   58.593079   59.321308   58.288007   \n",
       "1403  2025-07-07    ROK        NaN  337.632812  346.269643  336.965394   \n",
       "1158  2025-07-07     EA        NaN  153.360626  155.987730  153.160850   \n",
       "253   2025-07-09    ITW        NaN  258.150055  258.646975  255.208296   \n",
       "\n",
       "Price        Open     Volume  \n",
       "797    147.360001  2020500.0  \n",
       "818     59.045762  7939200.0  \n",
       "1403   344.406805  1445100.0  \n",
       "1158   155.548213  2502800.0  \n",
       "253    257.136349   866300.0  "
      ]
     },
     "execution_count": 14,
     "metadata": {},
     "output_type": "execute_result"
    }
   ],
   "source": [
    "final_data.sample(5)"
   ]
  },
  {
   "cell_type": "code",
   "execution_count": null,
   "id": "06bf016c",
   "metadata": {},
   "outputs": [],
   "source": []
  }
 ],
 "metadata": {
  "kernelspec": {
   "display_name": ".venv",
   "language": "python",
   "name": "python3"
  },
  "language_info": {
   "codemirror_mode": {
    "name": "ipython",
    "version": 3
   },
   "file_extension": ".py",
   "mimetype": "text/x-python",
   "name": "python",
   "nbconvert_exporter": "python",
   "pygments_lexer": "ipython3",
   "version": "3.10.12"
  }
 },
 "nbformat": 4,
 "nbformat_minor": 5
}
